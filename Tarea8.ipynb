{
  "cells": [
    {
      "cell_type": "markdown",
      "metadata": {
        "id": "view-in-github",
        "colab_type": "text"
      },
      "source": [
        "<a href=\"https://colab.research.google.com/github/EisFragment/Tarea_8/blob/main/Tarea8.ipynb\" target=\"_parent\"><img src=\"https://colab.research.google.com/assets/colab-badge.svg\" alt=\"Open In Colab\"/></a>"
      ]
    },
    {
      "cell_type": "markdown",
      "metadata": {
        "id": "PDoEEnqBOMzA"
      },
      "source": [
        "# 8.1. Numpy"
      ]
    },
    {
      "cell_type": "markdown",
      "metadata": {
        "id": "QAU2GESYOMzG"
      },
      "source": [
        "### 1. Convierte los siguientes datos sobre varias especies de cetáceos en un arreglo de NumPy y ordénalo por\n",
        "    1.  Masa\n",
        "    2.  Población.\n",
        "    \n",
        "Determina en cada caso el índice en el que debería insertarse la ballena de Bryde (población: 100000, masa: 25 toneladas) para mantener el arreglo ordenado."
      ]
    },
    {
      "cell_type": "code",
      "source": [
        "import numpy as np\n",
        "\n",
        "# Ruta del archivo de datos\n",
        "file_path = 'sample_data/whale-data.txt'\n",
        "\n",
        "data = []\n",
        "with open(file_path, 'r', encoding='utf-8') as f:\n",
        "    header = f.readline()  # Leemos la cabecera y la ignoramos\n",
        "    for num_line, line in enumerate(f, start=2):\n",
        "        parts = line.strip().split()\n",
        "        # Verificamos que la línea tenga al menos tres elementos\n",
        "        if len(parts) < 3:\n",
        "            print(f\"Skipping line {num_line} (insuficientes columnas): {line.strip()}\")\n",
        "            continue\n",
        "        try:\n",
        "            # Asumimos que los dos últimos tokens son la población y la masa\n",
        "            pop = float(parts[-2])\n",
        "            mass = float(parts[-1])\n",
        "            # El nombre de la especie es la unión de todos los tokens anteriores\n",
        "            species = \" \".join(parts[:-2])\n",
        "            data.append((species, mass, pop))\n",
        "        except Exception as e:\n",
        "            print(f\"Error procesando la línea {num_line}: {line.strip()} | {e}\")\n",
        "\n",
        "# Definimos un arreglo estructurado usando un dtype adecuado\n",
        "dtype = [('species', 'U50'), ('mass', 'f8'), ('pop', 'f8')]\n",
        "whales = np.array(data, dtype=dtype)\n",
        "\n",
        "print(\"Datos de cetáceos leídos:\")\n",
        "for rec in whales:\n",
        "    print(rec)\n",
        "\n",
        "# Datos de la ballena de Bryde a insertar: masa 25 toneladas y población 100000\n",
        "bryde = np.array([('Bryde', 25.0, 100000.0)], dtype=dtype)\n",
        "\n",
        "# Ordenamos el arreglo por la columna 'mass'\n",
        "sorted_mass = np.sort(whales, order='mass')\n",
        "idx_mass = np.searchsorted(sorted_mass['mass'], bryde['mass'][0])\n",
        "print(\"\\nArreglo ordenado por masa:\")\n",
        "for rec in sorted_mass:\n",
        "    print(rec)\n",
        "print(\"Índice de inserción para 'Bryde' (por masa):\", idx_mass)\n",
        "\n",
        "# Ordenamos el arreglo por la columna 'pop'\n",
        "sorted_pop = np.sort(whales, order='pop')\n",
        "idx_pop = np.searchsorted(sorted_pop['pop'], bryde['pop'][0])\n",
        "print(\"\\nArreglo ordenado por población:\")\n",
        "for rec in sorted_pop:\n",
        "    print(rec)\n",
        "print(\"Índice de inserción para 'Bryde' (por población):\", idx_pop)\n"
      ],
      "metadata": {
        "colab": {
          "base_uri": "https://localhost:8080/"
        },
        "id": "W25LcprNTgGq",
        "outputId": "c3ba4cc9-c421-4ee0-cb92-de06dd19a2b2"
      },
      "execution_count": null,
      "outputs": [
        {
          "output_type": "stream",
          "name": "stdout",
          "text": [
            "Datos de cetáceos leídos:\n",
            "('Bowhead whale', 60.0, 9000.0)\n",
            "('Blue whale', 120.0, 20000.0)\n",
            "('Fin whale', 70.0, 100000.0)\n",
            "('Humpback whale', 30.0, 80000.0)\n",
            "('Gray whale', 35.0, 26000.0)\n",
            "('Atlantic white-sided dolphin', 0.235, 250000.0)\n",
            "('Pacific white-sided dolphin', 0.15, 1000000.0)\n",
            "('Killer whale', 4.5, 100000.0)\n",
            "('Narwhal', 1.5, 25000.0)\n",
            "('Beluga', 1.5, 100000.0)\n",
            "('Sperm whale', 50.0, 2000000.0)\n",
            "('Baiji', 0.13, 13.0)\n",
            "('North Atlantic right whale', 75.0, 300.0)\n",
            "('North Pacific right whale', 80.0, 200.0)\n",
            "('Southern right whale', 70.0, 7000.0)\n",
            "\n",
            "Arreglo ordenado por masa:\n",
            "('Baiji', 0.13, 13.0)\n",
            "('Pacific white-sided dolphin', 0.15, 1000000.0)\n",
            "('Atlantic white-sided dolphin', 0.235, 250000.0)\n",
            "('Beluga', 1.5, 100000.0)\n",
            "('Narwhal', 1.5, 25000.0)\n",
            "('Killer whale', 4.5, 100000.0)\n",
            "('Humpback whale', 30.0, 80000.0)\n",
            "('Gray whale', 35.0, 26000.0)\n",
            "('Sperm whale', 50.0, 2000000.0)\n",
            "('Bowhead whale', 60.0, 9000.0)\n",
            "('Fin whale', 70.0, 100000.0)\n",
            "('Southern right whale', 70.0, 7000.0)\n",
            "('North Atlantic right whale', 75.0, 300.0)\n",
            "('North Pacific right whale', 80.0, 200.0)\n",
            "('Blue whale', 120.0, 20000.0)\n",
            "Índice de inserción para 'Bryde' (por masa): 6\n",
            "\n",
            "Arreglo ordenado por población:\n",
            "('Baiji', 0.13, 13.0)\n",
            "('North Pacific right whale', 80.0, 200.0)\n",
            "('North Atlantic right whale', 75.0, 300.0)\n",
            "('Southern right whale', 70.0, 7000.0)\n",
            "('Bowhead whale', 60.0, 9000.0)\n",
            "('Blue whale', 120.0, 20000.0)\n",
            "('Narwhal', 1.5, 25000.0)\n",
            "('Gray whale', 35.0, 26000.0)\n",
            "('Humpback whale', 30.0, 80000.0)\n",
            "('Beluga', 1.5, 100000.0)\n",
            "('Fin whale', 70.0, 100000.0)\n",
            "('Killer whale', 4.5, 100000.0)\n",
            "('Atlantic white-sided dolphin', 0.235, 250000.0)\n",
            "('Pacific white-sided dolphin', 0.15, 1000000.0)\n",
            "('Sperm whale', 50.0, 2000000.0)\n",
            "Índice de inserción para 'Bryde' (por población): 9\n"
          ]
        }
      ]
    },
    {
      "cell_type": "markdown",
      "metadata": {
        "id": "palKoCvaOMzK"
      },
      "source": [
        "### 2. El algoritmo del cordón para calcular el área de un polígono simple (es decir, uno sin agujeros ni intersecciones consigo mismo) procede de la siguiente manera:\n",
        "\n",
        "- Escribe las coordenadas (x, y) de los N vértices en un arreglo N × 2 y luego repite las coordenadas del primer vértice como la última fila para hacer un arreglo (N + 1) × 2. Ahora\n",
        "- Multiplica cada valor de la coordenada x en las primeras N filas por el valor de la coordenada y en la siguiente fila hacia abajo y toma la suma, $S_1 = x_1 y_2 + x_2 y_3 + · · · + x_N y_1$.\n",
        "- Multiplica cada valor de la coordenada y en las primeras N filas por el valor de la coordenada x en la siguiente fila hacia abajo y toma la suma, $S_2 = y_1 x_2 + y_2 x_3 + · · · + y_N x_1$.\n",
        "\n",
        "El área del polígono es entonces 1/2 |S1 − S2|.\n",
        "\n",
        "Implementa este algoritmo como una función que tome un arreglo de NumPy de vértices como argumento y devuelva el área del polígono sin usar bucles en Python.\n"
      ]
    },
    {
      "cell_type": "code",
      "source": [
        "import numpy as np\n",
        "\n",
        "def polygon_area(vertices):\n",
        "    \"\"\"\n",
        "    Calcula el área de un polígono simple (sin intersecciones) usando el algoritmo del cordón.\n",
        "\n",
        "    Parámetros:\n",
        "      vertices: arreglo NumPy de forma (N, 2) conteniendo las coordenadas (x, y) de los vértices\n",
        "\n",
        "    Retorna:\n",
        "      Área del polígono (valor positivo).\n",
        "    \"\"\"\n",
        "    # Crear un arreglo (N+1, 2) repitiendo el primer vértice al final\n",
        "    vertices_closed = np.vstack([vertices, vertices[0]])\n",
        "\n",
        "    # Suma de x[i] * y[i+1]\n",
        "    S1 = np.sum(vertices_closed[:-1, 0] * vertices_closed[1:, 1])\n",
        "\n",
        "    # Suma de y[i] * x[i+1]\n",
        "    S2 = np.sum(vertices_closed[:-1, 1] * vertices_closed[1:, 0])\n",
        "\n",
        "    # El área es 1/2 de la diferencia absoluta entre S1 y S2\n",
        "    return 0.5 * np.abs(S1 - S2)\n",
        "\n",
        "# Ejemplo de uso:\n",
        "# Definimos un rectángulo de 4x3\n",
        "vertices = np.array([[0, 0],\n",
        "                     [4, 0],\n",
        "                     [4, 3],\n",
        "                     [0, 3]])\n",
        "print(\"Área del polígono:\", polygon_area(vertices))\n"
      ],
      "metadata": {
        "colab": {
          "base_uri": "https://localhost:8080/"
        },
        "id": "FDoH3Dk4VCYc",
        "outputId": "c20086e3-7674-4d6c-dbb6-1cfbfc4dcef1"
      },
      "execution_count": null,
      "outputs": [
        {
          "output_type": "stream",
          "name": "stdout",
          "text": [
            "Área del polígono: 12.0\n"
          ]
        }
      ]
    },
    {
      "cell_type": "markdown",
      "metadata": {
        "id": "8oy_SkL6OMzN"
      },
      "source": [
        "### 3. La función Gaussiana normalizada con media $\\mu$ y desviación estándar $\\sigma$ es:\n",
        "\n",
        "$\n",
        "g(x) = \\frac{1}{\\sigma\\sqrt(2 \\pi)} exp (-\\frac{(x-\\mu)^2}{2\\sigma^2})\n",
        "$\n",
        "\n",
        "- Escribe un programa para calcular y graficar las funciones Gaussianas con $\\mu = 0$ y $\\sigma = 0.5, 1, 1.5$.\n",
        "    * Usa una cuadrícula de 1,000 puntos en el intervalo −10 ≤ x ≤ 10.  \n",
        "    * Verifica que las funciones están normalizadas con un área de 1.  \n",
        "    * Calcula la primera derivada de estas funciones en la misma cuadrícula utilizando la aproximación de\n",
        "    diferencia central de primer orden: g'(x) para algún valor pequeño de h elegido adecuadamente.\n"
      ]
    },
    {
      "cell_type": "code",
      "source": [
        "import numpy as np\n",
        "import matplotlib.pyplot as plt\n",
        "\n",
        "def gaussian(x, mu, sigma):\n",
        "    \"\"\"Función gaussiana normalizada.\"\"\"\n",
        "    return 1/(sigma*np.sqrt(2*np.pi)) * np.exp(-((x-mu)**2)/(2*sigma**2))\n",
        "\n",
        "def central_diff(y, h):\n",
        "    \"\"\"\n",
        "    Aproxima la primera derivada usando diferencia central.\n",
        "    Se utiliza np.roll para desplazar el arreglo.\n",
        "    \"\"\"\n",
        "    return (np.roll(y, -1) - np.roll(y, 1)) / (2 * h)\n",
        "\n",
        "# Cuadrícula de 1000 puntos en el intervalo [-10, 10]\n",
        "x = np.linspace(-10, 10, 1000)\n",
        "h = x[1] - x[0]  # Tamaño del paso\n",
        "\n",
        "mu = 0\n",
        "sigma_values = [0.5, 1, 1.5]\n",
        "\n",
        "plt.figure(figsize=(12, 6))\n",
        "for sigma in sigma_values:\n",
        "    g = gaussian(x, mu, sigma)\n",
        "    # Verificación de normalización usando np.trapezoid\n",
        "    area = np.trapezoid(g, x)\n",
        "    # Aproximación de la derivada usando diferencia central\n",
        "    dg = central_diff(g, h)\n",
        "\n",
        "    plt.plot(x, g, label=f'σ = {sigma} (Área = {area:.3f})')\n",
        "    plt.plot(x, dg, '--', label=f\"g'(x) σ = {sigma}\")\n",
        "\n",
        "plt.title(\"Funciones Gaussianas y sus Derivadas\")\n",
        "plt.xlabel(\"x\")\n",
        "plt.ylabel(\"g(x) y g'(x)\")\n",
        "plt.legend()\n",
        "plt.show()"
      ],
      "metadata": {
        "colab": {
          "base_uri": "https://localhost:8080/",
          "height": 456
        },
        "id": "1GbWfUgJaKVn",
        "outputId": "19a9b368-f9de-4474-a7bb-3693a413e92f"
      },
      "execution_count": null,
      "outputs": [
        {
          "output_type": "display_data",
          "data": {
            "text/plain": [
              "<Figure size 1200x600 with 1 Axes>"
            ],
            "image/png": "[encoded data removed]"
          },
          "metadata": {}
        }
      ]
    },
    {
      "cell_type": "markdown",
      "metadata": {
        "id": "qcVfP2iuOMzP"
      },
      "source": [
        "### 4. El archivo de texto `mountain.txt` proporciona algunos datos sobre los picos de 8,000 m, en orden alfabético.\n",
        "\n",
        "Usa el método `loadtxt` de NumPy para leer estos datos en un arreglo estructurado adecuado y determinar lo siguiente:\n",
        "\n",
        "1. El pico de 8,000 m más bajo.\n",
        "2. Los picos más al norte, al este, al sur y al oeste.\n",
        "3. El ascenso más reciente de los picos.\n",
        "4. El primero de los picos en ser escalado en invierno.\n",
        "\n",
        "Crea otro arreglo estructurado que contenga una lista de montañas con su altura en pies y la fecha del primer ascenso, ordenado por altura creciente.\n"
      ]
    },
    {
      "cell_type": "code",
      "source": [
        "import numpy as np\n",
        "\n",
        "# Función para convertir coordenadas de grados/minutos/segundos a grados decimales\n",
        "def dms_to_decimal(coord):\n",
        "    d, m, s, hemi = int(coord[:-1].split('d')[0]), int(coord.split('d')[1].split('m')[0]), int(coord.split('m')[1].split('s')[0]), coord[-1]\n",
        "    decimal = d + m / 60 + s / 3600\n",
        "    if hemi in ['S', 'W']:  # Sur y Oeste son negativos\n",
        "        decimal *= -1\n",
        "    return decimal\n",
        "\n",
        "# Leer el archivo\n",
        "filename = \"sample_data/\"\n",
        "mountains = []\n",
        "\n",
        "with open(filename, 'r') as file:\n",
        "    lines = file.readlines()[6:]  # Omitimos las primeras 6 líneas de encabezado\n",
        "\n",
        "for line in lines:\n",
        "    parts = line.split()\n",
        "    if len(parts) < 8:\n",
        "        continue  # Saltamos líneas vacías o mal formateadas\n",
        "\n",
        "    name = \" \".join(parts[:-7])  # Nombre de la montaña\n",
        "    height = int(parts[-7])  # Altura en metros\n",
        "    first_ascent = parts[-6]  # Fecha del primer ascenso\n",
        "    first_winter = parts[-5] if parts[-5] != '-' else None  # Fecha del ascenso invernal\n",
        "    lat = dms_to_decimal(parts[-4] + parts[-3] + parts[-2])  # Latitud en decimal\n",
        "    lon = dms_to_decimal(parts[-1] + parts[-2] + parts[-1])  # Longitud en decimal\n",
        "\n",
        "    mountains.append((name, height, first_ascent, first_winter, lat, lon))\n",
        "\n",
        "# Convertir a un array estructurado de NumPy\n",
        "dtype = [('name', 'U30'), ('height', 'i4'), ('first_ascent', 'U10'), ('first_winter', 'U10'), ('lat', 'f8'), ('lon', 'f8')]\n",
        "mountains_array = np.array(mountains, dtype=dtype)\n",
        "\n",
        "# 1. Pico de 8000 m más bajo\n",
        "lowest_peak = np.min(mountains_array, order='height')\n",
        "\n",
        "# 2. Picos más extremos\n",
        "northernmost = mountains_array[np.argmax(mountains_array['lat'])]\n",
        "southernmost = mountains_array[np.argmin(mountains_array['lat'])]\n",
        "easternmost = mountains_array[np.argmax(mountains_array['lon'])]\n",
        "westernmost = mountains_array[np.argmin(mountains_array['lon'])]\n",
        "\n",
        "# 3. Ascenso más reciente\n",
        "latest_ascent = mountains_array[np.argmax(mountains_array['first_ascent'])]\n",
        "\n",
        "# 4. Primer ascenso en invierno\n",
        "winter_ascents = mountains_array[mountains_array['first_winter'] != None]\n",
        "first_winter_ascent = winter_ascents[np.argmin(winter_ascents['first_winter'])]\n",
        "\n",
        "# Resultados\n",
        "lowest_peak, northernmost, southernmost, easternmost, westernmost, latest_ascent, first_winter_ascent\n"
      ],
      "metadata": {
        "colab": {
          "base_uri": "https://localhost:8080/",
          "height": 211
        },
        "id": "uYg1fSAVbLfJ",
        "outputId": "f2e27f36-1e21-4911-e1de-b4ec998e6440"
      },
      "execution_count": null,
      "outputs": [
        {
          "output_type": "error",
          "ename": "FileNotFoundError",
          "evalue": "[Errno 2] No such file or directory: '/mnt/data/ex6-2-b-mountain-data.txt'",
          "traceback": [
            "\u001b[0;31m---------------------------------------------------------------------------\u001b[0m",
            "\u001b[0;31mFileNotFoundError\u001b[0m                         Traceback (most recent call last)",
            "\u001b[0;32m<ipython-input-23-fc01c6e1b202>\u001b[0m in \u001b[0;36m<cell line: 0>\u001b[0;34m()\u001b[0m\n\u001b[1;32m     13\u001b[0m \u001b[0mmountains\u001b[0m \u001b[0;34m=\u001b[0m \u001b[0;34m[\u001b[0m\u001b[0;34m]\u001b[0m\u001b[0;34m\u001b[0m\u001b[0;34m\u001b[0m\u001b[0m\n\u001b[1;32m     14\u001b[0m \u001b[0;34m\u001b[0m\u001b[0m\n\u001b[0;32m---> 15\u001b[0;31m \u001b[0;32mwith\u001b[0m \u001b[0mopen\u001b[0m\u001b[0;34m(\u001b[0m\u001b[0mfilename\u001b[0m\u001b[0;34m,\u001b[0m \u001b[0;34m'r'\u001b[0m\u001b[0;34m)\u001b[0m \u001b[0;32mas\u001b[0m \u001b[0mfile\u001b[0m\u001b[0;34m:\u001b[0m\u001b[0;34m\u001b[0m\u001b[0;34m\u001b[0m\u001b[0m\n\u001b[0m\u001b[1;32m     16\u001b[0m     \u001b[0mlines\u001b[0m \u001b[0;34m=\u001b[0m \u001b[0mfile\u001b[0m\u001b[0;34m.\u001b[0m\u001b[0mreadlines\u001b[0m\u001b[0;34m(\u001b[0m\u001b[0;34m)\u001b[0m\u001b[0;34m[\u001b[0m\u001b[0;36m6\u001b[0m\u001b[0;34m:\u001b[0m\u001b[0;34m]\u001b[0m  \u001b[0;31m# Omitimos las primeras 6 líneas de encabezado\u001b[0m\u001b[0;34m\u001b[0m\u001b[0;34m\u001b[0m\u001b[0m\n\u001b[1;32m     17\u001b[0m \u001b[0;34m\u001b[0m\u001b[0m\n",
            "\u001b[0;31mFileNotFoundError\u001b[0m: [Errno 2] No such file or directory: '/mnt/data/ex6-2-b-mountain-data.txt'"
          ]
        }
      ]
    },
    {
      "cell_type": "markdown",
      "metadata": {
        "id": "y6VkBackOMzQ"
      },
      "source": [
        "### 5. El archivo airports.txt proporciona detalles de los 30 aeropuertos más transitados del mundo en 2014.\n",
        "Los campos delimitados por tabulaciones son: código IATA de tres letras, nombre del aeropuerto, ubicación del aeropuerto,latitud y longitud (ambas en grados).\n",
        "\n",
        "Escribe un programa para determinar la distancia entre los aereopuertos John F. Kennedy International Airport (JFK) y Los Angeles International Airport (LAX), utilizando la fórmula de Haversine  y asumiendo una Tierra esférica con un radio de 6378.1 km.\n",
        "\n",
        "\n"
      ]
    },
    {
      "cell_type": "markdown",
      "metadata": {
        "id": "QoD83EaSOMzR"
      },
      "source": [
        "### 6. Los conjuntos de datos sobre las tasas de inmunización infantil para tuberculosis, polio y sarampión en tres países del sudeste asiático entre 1960 y 2013 están disponibles en wb-data.dat.\n",
        "\n",
        "Los campos están delimitados por punto y coma y los valores faltantes se indican con '..'.\n",
        "\n",
        "Utiliza métodos de NumPy para leer estos datos y crear tres gráficos (uno para cada vacuna) comparando las tasas de inmunización en los tres países.\n"
      ]
    },
    {
      "cell_type": "markdown",
      "metadata": {
        "id": "rPfGPWj5OMzT"
      },
      "source": [
        "# 8.2 Matplotlib"
      ]
    },
    {
      "cell_type": "markdown",
      "metadata": {
        "id": "6XTuknOqOMzV"
      },
      "source": [
        "### 7. Escribe un programa para graficar la función de Planck, $B(\\lambda)$, para la radiancia espectral de un cuerpo negro a temperatura $T$ como función de la longitud de onda, /lambda, para el Sol (T = 5778 K):\n",
        "\n",
        "$\n",
        "B(λ) = \\frac{2hc^2}{\\lambda^5}\\frac{1}{exp(hc/\\lambda k_B T)-1}\n",
        "$\n",
        "\n",
        "Usa un arreglo de NumPy para almacenar valores de $B(\\lambda)$ desde 100 hasta 5,000 nm, pero configura el rango de longitud de onda para que disminuya de 4,000 nm a 0."
      ]
    },
    {
      "cell_type": "markdown",
      "metadata": {
        "id": "7pV8bn7_OMza"
      },
      "source": [
        "### 8. El llamado \"juego del caos\" es un algoritmo para generar un fractal.\n",
        "\n",
        "* Primero definelos n vértices de un polígono regular y un punto inicial, $x_0$, $y_0$, seleccionado al azar dentro del polígono. Luego genera una secuencia de puntos, comenzando con $x_0$, $y_0$, donde cada punto es una fracción $r$ de la distancia entre el anterior y un vértice del polígono elegido al azar.\n",
        "\n",
        "Por ejemplo, el algoritmo aplicado con los parámetros n = 3, r = 0.5 genera un triángulo de Sierpinski.\n",
        "\n",
        "https://es.wikipedia.org/wiki/Tri%C3%A1ngulo_de_Sierpinski\n",
        "\n",
        "Escribe un programa para dibujar fractales utilizando el algoritmo del juego del caos.\n"
      ]
    },
    {
      "cell_type": "markdown",
      "metadata": {
        "id": "8bCjt1dgOMzd"
      },
      "source": [
        "### 9. Escribe el código para leer el archivo dat.txtque contiene las alturas y masas de 260 mujeres y 247 hombres.\n",
        "\n",
        "Grafica los pares (altura, masa) de cada individuo en un diagrama de dispersión y, para cada sexo, dibuja una elipse de covarianza 3$\\sigma$ alrededor del punto medio.\n",
        "\n",
        "Las dimensiones de esta elipse están dadas por los valores propios (escalados) de la matriz de covarianza y está rotada de manera que su semieje mayor se alinee con el vector propio más grande.\n",
        "\n",
        "Incluir contornos del índice de masa corporal, definido por\n",
        "\n",
        "$\n",
        "IMC = (masa/kg)/(altura/m)^2.\n",
        "$  \n",
        "\n",
        "Traza estos contornos para delimitar las supuestas categorías de \"bajo peso\" (< 18.5), \"sobrepeso\" (> 25) y \"obesidad\" (> 30).\n",
        "\n",
        "Coloca manualmente las etiquetas de los contornos de manera que no interfieran con los puntos dispersos graficados y formatea las etiquetas con un decimal.\n"
      ]
    },
    {
      "cell_type": "markdown",
      "metadata": {
        "id": "ggFRj_PKOMzg"
      },
      "source": [
        "### 10. Las altitudes medias de los cuadrados hectáreos de 10 km × 10 km utilizados por el Ordnance Survey del Reino Unido para mapear Gran Bretaña se encuentran en el archivo de matriz NumPy `gb-alt.npy`, los valores NaN en esta matriz denotan el mar.\n",
        "\n",
        "Traza un mapa de la isla utilizando estos datos con `ax.imshow` y genera mapas adicionales asumiendo un aumento del nivel medio del mar de (a) 10 m, (b) 50 m, (c) 200 m. En cada caso, deduce el porcentaje del área terrestre restante en relación con su valor actual.\n"
      ]
    },
    {
      "cell_type": "markdown",
      "metadata": {
        "id": "WgiIeHbrOMzi"
      },
      "source": [
        "# 8.3 Scipy\n"
      ]
    },
    {
      "cell_type": "markdown",
      "metadata": {
        "id": "SA37-sX-OMzj"
      },
      "source": [
        "### 11. Utiliza las constantes y factores de conversión de SciPy para calcular la densidad numérica, N/V, de moléculas de gas ideal a temperatura y presión estándar (T = 0 °C, p = 1 atm). La ley de los gases ideales es pV = NkB T.\n"
      ]
    },
    {
      "cell_type": "markdown",
      "metadata": {
        "id": "OKFt-LWfOMzl"
      },
      "source": [
        "### 12. Escribe una función, `get_wv`, que tome una energía de disociación de enlace molar, `D0`, en kJ $mol^{-1}$ y devuelva la longitud de onda de un fotón correspondiente a esa energía por molécula, en nm. La energía de un fotón con longitud de onda $\\lambda$ es E = hc/$\\lambda$.\n"
      ]
    },
    {
      "cell_type": "markdown",
      "metadata": {
        "id": "oueuJigOOMzn"
      },
      "source": [
        "### 13. Utiliza `scipy.integrate.quad`para evaluar las siguentes integrales definidas\n",
        "\n",
        "$\n",
        "a) \\int_0^1 \\frac{x^4(1-x)^4}{1+x^2} dx\n",
        "$\n",
        "\n",
        "Compara con el valor exacto: 22/7-$\\pi$  \n",
        "\n",
        "$\n",
        "b) \\int_0^\\infty \\frac{x^3}{e^x-1} dx\n",
        "$\n",
        "\n",
        "Compara con el valor exacto de la tería de Deby: $\\pi^4$/15  \n",
        "\n",
        "$\n",
        "c) \\int_0^1 x^{-x} dx\n",
        "$\n",
        "\n",
        "Compara con el valor: $\\sum_{n=1}^{\\infty} n^{-n}$\n",
        "\n",
        "$\n",
        "d) \\int_0^1 [ln(\\frac{1}{x})]^p dx\n",
        "$\n",
        "\n",
        "Compara con p! para enteros en $0 \\leq p \\leq 10$\n",
        "\n",
        "$\n",
        "c) \\int_0^{2\\pi} e^{zcos\\theta} d\\theta\n",
        "$\n",
        "\n",
        "Compara con: $I_0(z) /2 \\pi$ donde $I_0$ es la función de Bessel modificada de primer orden"
      ]
    },
    {
      "cell_type": "markdown",
      "metadata": {
        "id": "CPXkHc7hOMzo"
      },
      "source": [
        "### 14. Encuentra las raices de\n",
        "\n",
        "$\n",
        "f(x) =\\frac{1}{5}+ x cos(\\frac{3}{x})\n",
        "$\n",
        "\n",
        "\n",
        "utilizando\n",
        "\n",
        "1. `scipy.optimize.brentq`\n",
        "2. `scipy.optimize.newton`"
      ]
    },
    {
      "cell_type": "markdown",
      "metadata": {
        "id": "V5IptYkEOMzq"
      },
      "source": [
        "### 15. La ley de desplazamiento de Wien predice que la longitud de onda de máxima emisión de un cuerpo negro descrito por la ley de Planck es proporcional a $1/T$:\n",
        "\n",
        "$\n",
        "\\lambda_{max} T = b\n",
        "$\n",
        "\n",
        "donde $b$ es una constante conocida como la constante de desplazamiento de Wien.\n",
        "\n",
        "Dada la distribución de Planck de la densidad de energía emitida como función de la longitud de onda,\n",
        "\n",
        "$\n",
        "u(\\lambda , T) =\\frac{8\\pi^2 h c}{\\lambda^5}\\frac{1}{exp^{\\lambda k_B T}-1}\n",
        "$           \n",
        "determina la constante $b$ utilizando `scipy.optimize.minimize_scalar` para encontrar el máximo en $u(\\lambda, T)$ para temperaturas en el rango 500 K $\\leq$ T $leq$ 6000 K y ajustando $lamba_{max}$ a una línea recta contra 1/T.\n",
        "\n",
        "Compara con el valor \"exacto\" de b, que está disponible dentro de `scipy.constants`.\n"
      ]
    }
  ],
  "metadata": {
    "kernelspec": {
      "display_name": "base",
      "language": "python",
      "name": "python3"
    },
    "language_info": {
      "codemirror_mode": {
        "name": "ipython",
        "version": 3
      },
      "file_extension": ".py",
      "mimetype": "text/x-python",
      "name": "python",
      "nbconvert_exporter": "python",
      "pygments_lexer": "ipython3",
      "version": "3.12.8"
    },
    "colab": {
      "provenance": [],
      "include_colab_link": true
    }
  },
  "nbformat": 4,
  "nbformat_minor": 0
}